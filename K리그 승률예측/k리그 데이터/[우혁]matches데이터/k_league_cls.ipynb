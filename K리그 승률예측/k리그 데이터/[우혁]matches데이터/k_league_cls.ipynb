{
 "cells": [
  {
   "cell_type": "code",
   "execution_count": 41,
   "metadata": {},
   "outputs": [],
   "source": [
    "# Library\n",
    "import os\n",
    "import random\n",
    "import pickle\n",
    "import gc\n",
    "import warnings\n",
    "import seaborn as sns\n",
    "import numpy as np\n",
    "import pandas as pd\n",
    "import shap\n",
    "from tqdm import tqdm\n",
    "import matplotlib.pyplot as plt\n",
    "from datetime import datetime\n",
    "from matplotlib import font_manager, rc\n",
    "from sklearn.compose import ColumnTransformer, make_column_transformer\n",
    "from sklearn.base import BaseEstimator, TransformerMixin\n",
    "from sklearn.impute import SimpleImputer\n",
    "from sklearn.experimental import enable_iterative_imputer\n",
    "from sklearn.manifold import LocallyLinearEmbedding\n",
    "from sklearn.cluster import KMeans, MiniBatchKMeans\n",
    "# from category_encoders import TargetEncoder\n",
    "from sklearn.preprocessing import (\n",
    "    StandardScaler, PowerTransformer, OrdinalEncoder,\n",
    "    OneHotEncoder, FunctionTransformer, PolynomialFeatures, LabelEncoder, MinMaxScaler\n",
    ")\n",
    "from sklearn.decomposition import PCA, IncrementalPCA, KernelPCA\n",
    "from sklearn.feature_selection import SelectKBest, SelectPercentile, RFE\n",
    "from sklearn.feature_extraction.text import CountVectorizer\n",
    "from sklearn.linear_model import (\n",
    "    LogisticRegression, LinearRegression, Ridge, Lasso,\n",
    "    SGDRegressor, ElasticNet\n",
    ")\n",
    "from sklearn.model_selection import (\n",
    "    train_test_split, cross_val_score, cross_validate,\n",
    "    GridSearchCV, KFold, cross_val_predict\n",
    ")\n",
    "from sklearn.metrics import (\n",
    "    roc_auc_score, mean_squared_error, make_scorer, accuracy_score, log_loss\n",
    ")\n",
    "from sklearn import set_config, datasets\n",
    "from catboost import (\n",
    "    CatBoostRegressor, CatBoostClassifier,\n",
    ")\n",
    "# import category_encoders as ce\n",
    "# from sklearn.pipeline import (\n",
    "#     Pipeline, FeatureUnion, make_pipeline\n",
    "# )\n",
    "from sklearn.ensemble import (\n",
    "    RandomForestClassifier, StackingClassifier, StackingRegressor,\n",
    "    GradientBoostingRegressor, VotingClassifier, VotingRegressor,\n",
    "    HistGradientBoostingRegressor, GradientBoostingClassifier,\n",
    "    BaggingClassifier, AdaBoostClassifier, RandomForestRegressor,ExtraTreesRegressor\n",
    ")\n",
    "from lightgbm import LGBMRegressor, LGBMClassifier\n",
    "from sklearn.svm import SVC, SVR, LinearSVC\n",
    "from xgboost import XGBRegressor, XGBClassifier\n",
    "from catboost import CatBoostClassifier, Pool\n",
    "from sklearn.neural_network import MLPClassifier\n",
    "from sklearn.neighbors import KNeighborsClassifier, KNeighborsRegressor\n",
    "from sklearn.naive_bayes import GaussianNB\n",
    "from sklearn.tree import DecisionTreeClassifier\n",
    "from sklearn.datasets import make_moons\n",
    "\n",
    "import xgboost as xgb\n",
    "import lightgbm as lgb\n",
    "import re\n",
    "import math\n",
    "import optuna\n",
    "\n",
    "from scipy.stats import zscore\n",
    "\n",
    "%matplotlib inline\n",
    "\n",
    "warnings.filterwarnings(\"ignore\")\n",
    "\n",
    "def seed_everything(seed):\n",
    "    random.seed(seed)\n",
    "    os.environ['PYTHONHASHSEED'] = str(seed)\n",
    "    np.random.seed(seed)\n",
    "\n",
    "seed_everything(42)\n",
    "pd.set_option('display.max_columns', None)"
   ]
  },
  {
   "cell_type": "code",
   "execution_count": 42,
   "metadata": {},
   "outputs": [],
   "source": [
    "df = pd.read_pickle('matches_df.pkl')"
   ]
  },
  {
   "cell_type": "markdown",
   "metadata": {},
   "source": [
    "## Preprocessing"
   ]
  },
  {
   "cell_type": "code",
   "execution_count": 43,
   "metadata": {},
   "outputs": [],
   "source": [
    "X = df\n",
    "y = df['home_team_result']\n",
    "\n",
    "# split_index = 1796 # 2021년도까지의 index\n",
    "\n",
    "# train = X.iloc[:split_index]\n",
    "# test = X.iloc[split_index:]\n",
    "# y_train = y.iloc[:split_index]\n",
    "# y_test = y.iloc[split_index:]\n",
    "\n",
    "\n",
    "train, test, y_train, y_test = train_test_split(X, y, test_size=0.2, random_state=42) ## 이 방법에 의문을 품는 바이요!!"
   ]
  },
  {
   "cell_type": "code",
   "execution_count": 44,
   "metadata": {},
   "outputs": [],
   "source": [
    "def team_encoding(train):\n",
    "    train['home_win'] = train['home_team_result'].apply(lambda x: 1 if x=='승' else 0) # home_win 열 추가, 승리인 경우 1, 아닌 경우 0\n",
    "    dic = {}\n",
    "    # 각 홈팀별 이긴 경기 수를 딕셔너리에 저장\n",
    "    for team in train['home_team_name'].unique():\n",
    "        value = train[train['home_team_name'] == team]['home_win'].sum() \n",
    "        #home_team_name  열에서 고유한 팀 이름을 가져와 각 팀이 홈에서 이긴 경기 수 계산, 이 값을 dic에 저장\n",
    "        dic[team] = value\n",
    "\n",
    "    label_dic={}\n",
    "    # 승리 횧수를 기준으로 오름차순 정렬, 각 팀에 대해 라벨 부여, 승리 횟수가 적은 팀부터 0,1,2 의 라벨을 부여\n",
    "    for idx, (team, _) in enumerate(sorted(dic.items(), key= lambda x: x[1])):\n",
    "        label_dic[team] = idx\n",
    "    \n",
    "    return label_dic\n",
    "\n",
    "\n",
    "''' 홈팀 득점 이동평균 계산 함수 '''\n",
    "\n",
    "def homeGoal_day_mean(train, test, day):\n",
    "    train[f'home_Goal_{day}_mean'] = -1  # 초기값 -1로 설정\n",
    "    test[f'home_Goal_{day}_mean'] = -1\n",
    "    \n",
    "    teams = train['home_team_name'].unique()\n",
    "    for team in tqdm(teams): # train에서 고유 팀 이름을 가져오고 이를 시각적으로 표시해줌 : tqdm\n",
    "        team_df = train[train['home_team_name'] == team]\n",
    "        # 롤링 윈도우 크기 설정\n",
    "        ch_day = len(team_df) if len(team_df) < day else day # 팀의 경기 수가 주어진 day 보다 적으면, 경기 수 만큼의 윈도우 크기 사용\n",
    "        idx = team_df['home_team_goal_count'].rolling(ch_day).mean().index.values # 롤링 윈도우 평균 계산\n",
    "        val = team_df['home_team_goal_count'].rolling(ch_day).mean().values\n",
    "        train[f'home_Goal_{day}_mean'].loc[idx] = val\n",
    "        test_idx = test[test['home_team_name'] == team].index\n",
    "        test[f'home_Goal_{day}_mean'].loc[test_idx] = val[-1]\n",
    "    # 결측값 처리\n",
    "    train[f'home_Goal_{day}_mean'] = train[f'home_Goal_{day}_mean'].fillna(0)\n",
    "\n",
    "\n",
    "''' 원정팀 득점 이동평균 계산 함수 '''\n",
    "\n",
    "def awayGoal_day_mean(train, test, day):\n",
    "    # 초기값 설정\n",
    "    train[f'away_Goal_{day}_mean'] = -1\n",
    "    test[f'away_Goal_{day}_mean'] = -1\n",
    "    \n",
    "    teams = train['away_team_name'].unique()\n",
    "    for team in tqdm(teams):\n",
    "        team_df = train[train['away_team_name'] == team]\n",
    "        # 롤링 윈도우 크기 설정\n",
    "        ch_day = len(team_df) if len(team_df) < day else day\n",
    "        idx = team_df['away_team_goal_count'].rolling(ch_day).mean().index.values\n",
    "        val = team_df['away_team_goal_count'].rolling(ch_day).mean().values\n",
    "        train[f'away_Goal_{day}_mean'].loc[idx] = val\n",
    "        test_idx = test[test['away_team_name'] == team].index\n",
    "        test[f'away_Goal_{day}_mean'].loc[test_idx] = val[-1]\n",
    "    # 결측값 처리\n",
    "    train[f'away_Goal_{day}_mean'] = train[f'away_Goal_{day}_mean'].fillna(0)\n",
    "\n",
    "\n",
    "'''홈팀 승리율 평균 계산 함수'''\n",
    "\n",
    "def homeWin_day_mean(train, test, day):\n",
    "    train[f'home_winRate_{day}_mean'] = -1\n",
    "    test[f'home_winRate_{day}_mean'] = -1\n",
    "    train['win'] = train['home_team_result'].apply(lambda x: 1 if x == '승' else 0)\n",
    "\n",
    "    teams = train['home_team_name'].unique()\n",
    "    for team in tqdm(teams):\n",
    "        team_df = train[train['home_team_name'] == team]\n",
    "        ch_day = len(team_df) if len(team_df) < day else day\n",
    "        idx = team_df['win'].rolling(ch_day).mean().index.values\n",
    "        val = team_df['win'].rolling(ch_day).mean().values\n",
    "        train[f'home_winRate_{day}_mean'].loc[idx] = val\n",
    "        test_idx = test[test['home_team_name'] == team].index\n",
    "        test[f'home_winRate_{day}_mean'].loc[test_idx] = val[-1]\n",
    "\n",
    "    train.drop(columns=['win'], inplace=True)\n",
    "\n",
    "    train[f'home_winRate_{day}_mean'] = train[f'home_winRate_{day}_mean'].fillna(0)\n",
    "\n",
    "\n",
    "'''원정팀 승리율 평균 계산 함수'''\n",
    "\n",
    "def awayWin_day_mean(train, test, day):\n",
    "\n",
    "    train[f'away_winRate_{day}_mean'] = -1\n",
    "    test[f'away_winRate_{day}_mean'] = -1\n",
    "    train['win'] = train['home_team_result'].apply(lambda x: 1 if x == '패' else 0)\n",
    "    \n",
    "    teams = train['away_team_name'].unique()\n",
    "    for team in tqdm(teams):\n",
    "        team_df = train[train['away_team_name'] == team]\n",
    "\n",
    "        ch_day = len(team_df) if len(team_df) < day else day\n",
    "        idx = team_df['win'].rolling(ch_day).mean().index.values\n",
    "        val = team_df['win'].rolling(ch_day).mean().values\n",
    "        train[f'away_winRate_{day}_mean'].loc[idx] = val\n",
    "        test_idx = test[test['away_team_name'] == team].index\n",
    "        test[f'away_winRate_{day}_mean'].loc[test_idx] = val[-1]\n",
    "\n",
    "    train.drop(columns=['win'], inplace=True)\n",
    "\n",
    "    train[f'away_winRate_{day}_mean'] = train[f'away_winRate_{day}_mean'].fillna(0)\n",
    "\n",
    "\n",
    "'''홈팀 평균 계산 함수'''\n",
    "\n",
    "def home_day_mean(train, test, columns, day):\n",
    "    for column in tqdm(columns):\n",
    "        teams = train['home_team_name'].values\n",
    "        train[f'home_{column}_{day}_mean'] = -1\n",
    "        test[f'home_{column}_{day}_mean'] = -1\n",
    "\n",
    "        for team in tqdm(teams):\n",
    "            team_df = train[train['home_team_name'] == team]\n",
    "            idx = team_df[column].rolling(day).mean().index.values\n",
    "            val = team_df[column].rolling(day).mean().values\n",
    "            train[f'home_{column}_{day}_mean'].loc[idx] = val\n",
    "            test_idx = test[test['home_team_name'] == team].index\n",
    "            test[f'home_{column}_{day}_mean'].loc[test_idx] = val[-1]\n",
    "\n",
    "        train[f'home_{column}_{day}_mean'] = train[f'home_{column}_{day}_mean'].fillna(0)\n",
    "        test[f'home_{column}_{day}_mean'] = test[f'home_{column}_{day}_mean'].fillna(0)\n",
    "\n",
    "\n",
    "'''원정팀 평균 계산 함수'''\n",
    "\n",
    "def away_day_mean(train, test, columns, day):\n",
    "    for column in tqdm(columns):\n",
    "        teams = train['away_team_name'].values\n",
    "        train[f'away_{column}_{day}_mean'] = -1\n",
    "        test[f'away_{column}_{day}_mean'] = -1\n",
    "\n",
    "        for team in tqdm(teams):\n",
    "            team_df = train[train['away_team_name'] == team]\n",
    "            idx = team_df[column].rolling(day).mean().index.values\n",
    "            val = team_df[column].rolling(day).mean().values\n",
    "            train[f'away_{column}_{day}_mean'].loc[idx] = val\n",
    "            test_idx = test[test['away_team_name'] == team].index\n",
    "            test[f'away_{column}_{day}_mean'].loc[test_idx] = val[-1]\n",
    "\n",
    "        train[f'away_{column}_{day}_mean'] = train[f'away_{column}_{day}_mean'].fillna(0)\n",
    "        test[f'away_{column}_{day}_mean'] = test[f'away_{column}_{day}_mean'].fillna(0)\n",
    "\n",
    "\n",
    "'''전처리 함수'''\n",
    "\n",
    "def preprocessing(train, test, dic):\n",
    "    # 년과 월일로 나누기\n",
    "    train['date_GMT'] = train['date_GMT'].dt.strftime('%Y%m%d')\n",
    "    test['date_GMT'] = test['date_GMT'].dt.strftime('%Y%m%d')\n",
    "    train['year'] = train['date_GMT'].apply(lambda x : int(x[0:4]))\n",
    "    # train['month'] = train['date_GMT'].apply(lambda x : int(x[5:7]))\n",
    "    # train['day'] = train['date_GMT'].apply(lambda x : int(x[8:10]))\n",
    "\n",
    "    test['year'] = test['date_GMT'].apply(lambda x : int(x[0:4]))\n",
    "    # test['month'] = test['date_GMT'].apply(lambda x : int(x[5:7]))\n",
    "    # test['day'] = test['date_GMT'].apply(lambda x : int(x[8:10]))\n",
    "    train.drop(columns=['date_GMT'], inplace=True)\n",
    "    test.drop(columns=['date_GMT'], inplace=True)\n",
    "\n",
    "    # 팀 인코딩 적용\n",
    "    label_dic = dic\n",
    "    train['home_team_name'] = train['home_team_name'].apply(lambda x: label_dic[x])\n",
    "    train['away_team_name'] = train['away_team_name'].apply(lambda x: label_dic[x])\n",
    "    test['home_team_name'] = test['home_team_name'].apply(lambda x: label_dic[x])\n",
    "    test['away_team_name'] = test['away_team_name'].apply(lambda x: label_dic[x])\n",
    "\n",
    "    # 5일간 홈팀 승리 비율 계산\n",
    "    homeWin_day_mean(train, test, 5)\n",
    "    # 5일간 원정팀 승리 비율 계산\n",
    "    awayWin_day_mean(train, test, 5)\n",
    "\n",
    "    # 5일간 홈팀 평균 득점 계산\n",
    "    homeGoal_day_mean(train, test, 5)\n",
    "    # 5일간 원정팀 평균 득점 계산\n",
    "    awayGoal_day_mean(train, test, 5)\n",
    "\n",
    "    # 불필요한 컬럼 제거\n",
    "    # train = train.drop(columns=['home_win', 'index','home_team_goal_count','away_team_goal_count','home_team_result','game_points'])\n",
    "    train = train.drop(columns=['home_win', 'index','home_team_goal_count','away_team_goal_count','game_points'])\n",
    "    test = test.drop(columns=['index','home_team_goal_count','away_team_goal_count','home_team_result','game_points'])\n",
    "\n",
    "    return train, test\n"
   ]
  },
  {
   "cell_type": "markdown",
   "metadata": {},
   "source": [
    "## Train / Test"
   ]
  },
  {
   "cell_type": "code",
   "execution_count": 45,
   "metadata": {},
   "outputs": [
    {
     "name": "stderr",
     "output_type": "stream",
     "text": [
      "100%|██████████| 17/17 [00:00<00:00, 569.16it/s]\n",
      "100%|██████████| 17/17 [00:00<00:00, 554.46it/s]\n",
      "100%|██████████| 17/17 [00:00<00:00, 572.47it/s]\n",
      "100%|██████████| 17/17 [00:00<00:00, 570.13it/s]\n"
     ]
    }
   ],
   "source": [
    "hometeam_list = list(train['home_team_name'].unique())\n",
    "dic = team_encoding(train)\n",
    "train, test= preprocessing(train, test, dic)\n",
    "test_idx = test.index.values\n",
    "\n",
    "\n",
    "# 승무패 인코딩\n",
    "lec = LabelEncoder()\n",
    "lec.fit(df['home_team_result'])\n",
    "y_train = lec.transform(y_train)\n",
    "y_test = lec.transform(y_test)"
   ]
  },
  {
   "cell_type": "code",
   "execution_count": 46,
   "metadata": {},
   "outputs": [],
   "source": [
    "# # 홈팀과 원정팀의 공격 효율성을 계산한 피쳐 생성\n",
    "# train['home_attack_efficiency'] = train['home_Goal_5_mean'] * train['home_team_shots_on_target']\n",
    "# train['away_attack_efficiency'] = train['away_Goal_5_mean'] * train['away_team_shots_on_target']\n",
    "# # 홈팀과 원정팀의 공격 효율성 차이를 나타내는 피쳐 생성\n",
    "# train['attack_efficiency_difference'] = train['home_attack_efficiency'] - train['away_attack_efficiency']\n",
    "\n",
    "# # 최근 5경기 평균 득점의 표준 편차를 나타내는 피쳐 생성\n",
    "# train['home_Goal_5_std'] = train['home_Goal_5_mean'].rolling(window=5).std()\n",
    "# train['away_Goal_5_std'] = train['away_Goal_5_mean'].rolling(window=5).std()\n",
    "\n",
    "# # 결측값을 0으로 대체\n",
    "# train = train.fillna(0)\n",
    "\n",
    "# # 테스트 데이터에도 동일한 피쳐 생성\n",
    "# test['home_attack_efficiency'] = test['home_Goal_5_mean'] * test['home_team_shots_on_target']\n",
    "# test['away_attack_efficiency'] = test['away_Goal_5_mean'] * test['away_team_shots_on_target']\n",
    "# test['attack_efficiency_difference'] = test['home_attack_efficiency'] - test['away_attack_efficiency']\n",
    "# test['home_Goal_5_std'] = test['home_Goal_5_mean'].rolling(window=5).std()\n",
    "# test['away_Goal_5_std'] = test['away_Goal_5_mean'].rolling(window=5).std()\n",
    "# test = test.fillna(0)\n",
    "\n",
    "# 학습 데이터에서 목표 변수 'home_team_result' 컬럼 제거\n",
    "train.drop(columns = ['home_team_result'], inplace = True)\n"
   ]
  },
  {
   "cell_type": "code",
   "execution_count": 47,
   "metadata": {},
   "outputs": [],
   "source": [
    "# import sweetviz as sv\n",
    "\n",
    "# report = sv.analyze(train)\n",
    "# report.show_html(\"new_features.html\")"
   ]
  },
  {
   "cell_type": "markdown",
   "metadata": {},
   "source": [
    "## Feature scaler"
   ]
  },
  {
   "cell_type": "code",
   "execution_count": 48,
   "metadata": {},
   "outputs": [],
   "source": [
    "cat = ['home_team_name','away_team_name','year','month']\n",
    "\n",
    "num_features = list(set(train.columns) - set(cat))\n",
    "# scaler = MinMaxScaler()\n",
    "scaler = StandardScaler()\n",
    "train[num_features] = scaler.fit_transform(train[num_features])\n",
    "test[num_features] = scaler.transform(test[num_features])"
   ]
  },
  {
   "cell_type": "markdown",
   "metadata": {},
   "source": [
    "## Over-Sampling"
   ]
  },
  {
   "cell_type": "code",
   "execution_count": 49,
   "metadata": {},
   "outputs": [
    {
     "name": "stdout",
     "output_type": "stream",
     "text": [
      "Resampled class distribution: Counter({0: 5000, 2: 5000, 1: 5000})\n",
      "Original training set shape: (1984, 28)\n",
      "Resampled training set shape: (15000, 28)\n"
     ]
    }
   ],
   "source": [
    "from imblearn.combine import SMOTETomek\n",
    "from imblearn.over_sampling import SMOTE\n",
    "import pandas as pd\n",
    "from collections import Counter\n",
    "\n",
    "# SMOTE 객체 생성 (각 클래스의 샘플 수를 1000개로 설정)\n",
    "smote = SMOTE(sampling_strategy={0: 5000, 1: 5000, 2: 5000}, random_state=42)\n",
    "\n",
    "# SMOTE-Tomek 객체 생성\n",
    "smote_tomek = SMOTETomek(smote=smote, random_state=42)\n",
    "\n",
    "# 오버샘플링 및 언더샘플링 적용\n",
    "train_resampled, y_train_resampled = smote_tomek.fit_resample(train, y_train)\n",
    "\n",
    "# 각 클래스 비율 확인\n",
    "print(f\"Resampled class distribution: {Counter(y_train_resampled)}\")\n",
    "\n",
    "print(f\"Original training set shape: {train.shape}\")\n",
    "print(f\"Resampled training set shape: {train_resampled.shape}\")"
   ]
  },
  {
   "cell_type": "markdown",
   "metadata": {},
   "source": [
    "## Shap"
   ]
  },
  {
   "cell_type": "markdown",
   "metadata": {},
   "source": [
    "### xgb"
   ]
  },
  {
   "cell_type": "code",
   "execution_count": 50,
   "metadata": {},
   "outputs": [
    {
     "name": "stdout",
     "output_type": "stream",
     "text": [
      "Validation Accuracy: 0.5745967741935484\n",
      "Filtered SHAP Importances:\n",
      "                        column_name  shap_importance\n",
      "24             home_winRate_5_mean         1.148316\n",
      "16  home_team_goal_count_half_time         0.938362\n",
      "22                  5_games_result         0.799518\n",
      "6        home_team_shots_on_target         0.787372\n",
      "17  away_team_goal_count_half_time         0.671943\n",
      "7        away_team_shots_on_target         0.299008\n",
      "25             away_winRate_5_mean         0.256602\n",
      "26                home_Goal_5_mean         0.243335\n",
      "10            home_team_possession         0.239132\n",
      "1                   away_team_name         0.208636\n",
      "0                   home_team_name         0.206982\n",
      "4                  home_team_shots         0.148275\n",
      "9                  away_team_fouls         0.139383\n",
      "21             away_team_red_cards         0.139369\n",
      "15               away_team_offside         0.137519\n",
      "11            away_team_possession         0.126546\n",
      "2           home_team_corner_count         0.118167\n",
      "8                  home_team_fouls         0.116567\n",
      "13             away_team_free_kick         0.113311\n",
      "18          home_team_yellow_cards         0.111792\n",
      "27                away_Goal_5_mean         0.106528\n",
      "23                            year         0.102429\n",
      "3           away_team_corner_count         0.093221\n",
      "5                  away_team_shots         0.079218\n",
      "19             home_team_red_cards         0.074230\n",
      "14               home_team_offside         0.069710\n",
      "12             home_team_free_kick         0.060991\n"
     ]
    }
   ],
   "source": [
    "import pandas as pd\n",
    "from sklearn.model_selection import train_test_split\n",
    "import xgboost as xgb\n",
    "from sklearn.datasets import load_breast_cancer\n",
    "import shap\n",
    "SHAP_THRESHOLD = 0.05\n",
    "\n",
    "# feature_names dimension 조정\n",
    "train_col = train.columns\n",
    "feature_names = train_col.to_numpy()\n",
    "\n",
    "# 모델 학습\n",
    "model = xgb.XGBClassifier().fit(train_resampled, y_train_resampled)\n",
    "\n",
    "# 모델 예측 및 평가\n",
    "y_pred = model.predict(test)\n",
    "print(\"Validation Accuracy:\", accuracy_score(y_test, y_pred))\n",
    "\n",
    "# SHAP 값 계산\n",
    "explainer = shap.TreeExplainer(model)\n",
    "shap_values = explainer.shap_values(test)\n",
    "\n",
    "# SHAP 값 요약\n",
    "if isinstance(shap_values, list):  # shap_values가 리스트일 경우 (XGBoost >= 1.0.0)\n",
    "    shap_values = shap_values[1]\n",
    "\n",
    "shap_sum = np.abs(shap_values).mean(axis=0)\n",
    "importance_df = pd.DataFrame({'column_name': feature_names, 'shap_importance': shap_sum})\n",
    "importance_df = importance_df.sort_values('shap_importance', ascending=False)\n",
    "\n",
    "# 중요도 임계값 적용 (선택 사항)\n",
    "importance_df_filtered = importance_df[importance_df['shap_importance'] > SHAP_THRESHOLD]\n",
    "print(\"Filtered SHAP Importances:\\n\", importance_df_filtered)"
   ]
  },
  {
   "cell_type": "code",
   "execution_count": 51,
   "metadata": {},
   "outputs": [],
   "source": [
    "# 지정된(SHAP_THRESHOLD) Shap feature 중요도 이상인 것만 선택\n",
    "features_selected = importance_df.query('shap_importance > @SHAP_THRESHOLD').column_name.tolist()\n",
    "shap_xgb_train_resampled = train_resampled[features_selected]\n",
    "shap_xgb_test = test[features_selected]"
   ]
  },
  {
   "cell_type": "markdown",
   "metadata": {},
   "source": [
    "### lgbm"
   ]
  },
  {
   "cell_type": "code",
   "execution_count": 52,
   "metadata": {},
   "outputs": [
    {
     "name": "stdout",
     "output_type": "stream",
     "text": [
      "[LightGBM] [Info] Auto-choosing col-wise multi-threading, the overhead of testing was 0.001585 seconds.\n",
      "You can set `force_col_wise=true` to remove the overhead.\n",
      "[LightGBM] [Info] Total Bins 6420\n",
      "[LightGBM] [Info] Number of data points in the train set: 15000, number of used features: 28\n",
      "[LightGBM] [Info] Start training from score -1.098612\n",
      "[LightGBM] [Info] Start training from score -1.098612\n",
      "[LightGBM] [Info] Start training from score -1.098612\n",
      "Validation Accuracy: 0.5665322580645161\n"
     ]
    },
    {
     "data": {
      "image/png": "[encoded data removed]",
      "text/plain": [
       "<Figure size 1000x800 with 1 Axes>"
      ]
     },
     "metadata": {},
     "output_type": "display_data"
    }
   ],
   "source": [
    "# LightGBM 모델 학습\n",
    "model = lgb.LGBMClassifier().fit(train_resampled, y_train_resampled)\n",
    "SHAP_THRESHOLD = 0.1\n",
    "\n",
    "# 모델 예측 및 평가\n",
    "y_pred = model.predict(test)\n",
    "print(\"Validation Accuracy:\", accuracy_score(y_test, y_pred))\n",
    "\n",
    "# SHAP 값 계산\n",
    "explainer = shap.TreeExplainer(model)\n",
    "shap_values = explainer.shap_values(test)\n",
    "\n",
    "shap_sum = np.abs(shap_values).mean(axis=1)[1,:]\n",
    "importance_df = pd.DataFrame([test.columns.tolist(), shap_sum.tolist()]).T\n",
    "importance_df.columns = ['column_name', 'shap_importance']\n",
    "importance_df = importance_df.sort_values('shap_importance', ascending=False);\n",
    "# importance_df\n",
    "\n",
    "# # SHAP 값 데이터프레임 생성 (각 피쳐별 SHAP 값)\n",
    "# shap_values_df = pd.DataFrame(shap_values[1], columns=test.columns)\n",
    "# shap_values_df\n",
    "\n",
    "# SHAP 값의 평균 절대값 계산\n",
    "shap_abs_mean = pd.DataFrame(shap_values[1], columns=test.columns).abs().mean().sort_values(ascending=False)\n",
    "\n",
    "# SHAP 값 평균 절대값 시각화\n",
    "plt.figure(figsize=(10, 8))\n",
    "shap_abs_mean.plot(kind='barh')\n",
    "plt.title(\"Mean Absolute SHAP Values for Features\")\n",
    "plt.xlabel(\"Mean Absolute SHAP Value\")\n",
    "plt.ylabel(\"Features\")\n",
    "plt.gca().invert_yaxis()\n",
    "plt.show()"
   ]
  },
  {
   "cell_type": "code",
   "execution_count": 53,
   "metadata": {},
   "outputs": [],
   "source": [
    "# 지정된(SHAP_THRESHOLD) Shap feature 중요도 이상인 것만 선택\n",
    "features_selected = importance_df.query('shap_importance > @SHAP_THRESHOLD').column_name.tolist()\n",
    "shap_lgbm_train_resampled = train_resampled[features_selected]\n",
    "shap_lgbm_test = test[features_selected]"
   ]
  },
  {
   "cell_type": "markdown",
   "metadata": {},
   "source": [
    "## model Oputna"
   ]
  },
  {
   "cell_type": "markdown",
   "metadata": {},
   "source": [
    "### xgb"
   ]
  },
  {
   "cell_type": "code",
   "execution_count": 54,
   "metadata": {},
   "outputs": [
    {
     "name": "stderr",
     "output_type": "stream",
     "text": [
      "[I 2024-07-02 20:31:41,488] A new study created in memory with name: no-name-f6a4b280-8e11-49f7-b2b1-f5488c307f11\n",
      "[I 2024-07-02 20:31:44,022] Trial 0 finished with value: 0.7973333333333332 and parameters: {'max_depth': 6, 'learning_rate': 0.00012187983837867963, 'n_estimators': 121, 'subsample': 0.8959961711550594, 'colsample_bytree': 0.5750459966531851, 'min_child_weight': 10, 'gamma': 0.6723491266982701}. Best is trial 0 with value: 0.7973333333333332.\n",
      "[I 2024-07-02 20:31:46,768] Trial 1 finished with value: 0.7998666666666667 and parameters: {'max_depth': 6, 'learning_rate': 0.00013305754542387163, 'n_estimators': 129, 'subsample': 0.5715925503412516, 'colsample_bytree': 0.5887776211102034, 'min_child_weight': 4, 'gamma': 0.19261007973354116}. Best is trial 1 with value: 0.7998666666666667.\n",
      "[I 2024-07-02 20:31:47,959] Trial 2 finished with value: 0.7304666666666667 and parameters: {'max_depth': 4, 'learning_rate': 0.0042095730332011964, 'n_estimators': 102, 'subsample': 0.7161518556055222, 'colsample_bytree': 0.6010503233921418, 'min_child_weight': 4, 'gamma': 0.6601131635207375}. Best is trial 1 with value: 0.7998666666666667.\n",
      "[I 2024-07-02 20:31:49,117] Trial 3 finished with value: 0.7499333333333332 and parameters: {'max_depth': 5, 'learning_rate': 0.0014159733071552876, 'n_estimators': 71, 'subsample': 0.8549340596451922, 'colsample_bytree': 0.739045095416855, 'min_child_weight': 9, 'gamma': 0.371047561651891}. Best is trial 1 with value: 0.7998666666666667.\n",
      "[I 2024-07-02 20:31:50,537] Trial 4 finished with value: 0.7837333333333334 and parameters: {'max_depth': 6, 'learning_rate': 0.00010418020463535244, 'n_estimators': 67, 'subsample': 0.7275374266625119, 'colsample_bytree': 0.6717041970058857, 'min_child_weight': 9, 'gamma': 4.201849891321206}. Best is trial 1 with value: 0.7998666666666667.\n",
      "[I 2024-07-02 20:31:52,313] Trial 5 finished with value: 0.8372666666666667 and parameters: {'max_depth': 7, 'learning_rate': 0.0007207940160100146, 'n_estimators': 68, 'subsample': 0.5758831424832521, 'colsample_bytree': 0.5143209120975452, 'min_child_weight': 4, 'gamma': 1.1139222260127113}. Best is trial 5 with value: 0.8372666666666667.\n",
      "[I 2024-07-02 20:31:55,917] Trial 6 finished with value: 0.7985333333333333 and parameters: {'max_depth': 6, 'learning_rate': 0.0014635265455149153, 'n_estimators': 189, 'subsample': 0.5267488068138275, 'colsample_bytree': 0.5757659259912123, 'min_child_weight': 7, 'gamma': 1.4134890067193617}. Best is trial 5 with value: 0.8372666666666667.\n",
      "[I 2024-07-02 20:31:58,628] Trial 7 finished with value: 0.8409333333333334 and parameters: {'max_depth': 7, 'learning_rate': 0.004950818622446931, 'n_estimators': 83, 'subsample': 0.8998613349648432, 'colsample_bytree': 0.7379783053379539, 'min_child_weight': 4, 'gamma': 0.45623559652233137}. Best is trial 7 with value: 0.8409333333333334.\n",
      "[I 2024-07-02 20:32:00,128] Trial 8 finished with value: 0.7866666666666666 and parameters: {'max_depth': 7, 'learning_rate': 0.0005759910306850067, 'n_estimators': 51, 'subsample': 0.5948139578759892, 'colsample_bytree': 0.88970848494767, 'min_child_weight': 7, 'gamma': 4.972110320386086}. Best is trial 7 with value: 0.8409333333333334.\n",
      "[I 2024-07-02 20:32:01,597] Trial 9 finished with value: 0.7504000000000001 and parameters: {'max_depth': 5, 'learning_rate': 0.0005640552522759324, 'n_estimators': 90, 'subsample': 0.6714941903589224, 'colsample_bytree': 0.7753339763946288, 'min_child_weight': 5, 'gamma': 0.6219588558170769}. Best is trial 7 with value: 0.8409333333333334.\n",
      "[I 2024-07-02 20:32:03,055] Trial 10 finished with value: 0.7136 and parameters: {'max_depth': 3, 'learning_rate': 0.009429640343590695, 'n_estimators': 156, 'subsample': 0.8031083658579532, 'colsample_bytree': 0.850965876015607, 'min_child_weight': 6, 'gamma': 2.154808498826967}. Best is trial 7 with value: 0.8409333333333334.\n",
      "[I 2024-07-02 20:32:05,100] Trial 11 finished with value: 0.8416666666666666 and parameters: {'max_depth': 7, 'learning_rate': 0.003014875996126365, 'n_estimators': 84, 'subsample': 0.6286769529852877, 'colsample_bytree': 0.5042069438144728, 'min_child_weight': 5, 'gamma': 1.736498567547168}. Best is trial 11 with value: 0.8416666666666666.\n",
      "[I 2024-07-02 20:32:07,808] Trial 12 finished with value: 0.8366000000000001 and parameters: {'max_depth': 7, 'learning_rate': 0.004161149842554721, 'n_estimators': 99, 'subsample': 0.7717203393873867, 'colsample_bytree': 0.6818049056693152, 'min_child_weight': 5, 'gamma': 2.7832732666429454}. Best is trial 11 with value: 0.8416666666666666.\n",
      "[I 2024-07-02 20:32:11,208] Trial 13 finished with value: 0.8266666666666668 and parameters: {'max_depth': 7, 'learning_rate': 0.004034438645540659, 'n_estimators': 124, 'subsample': 0.6462544303587506, 'colsample_bytree': 0.7922103932182187, 'min_child_weight': 6, 'gamma': 2.132002588660339}. Best is trial 11 with value: 0.8416666666666666.\n",
      "[I 2024-07-02 20:32:12,338] Trial 14 finished with value: 0.7380000000000001 and parameters: {'max_depth': 4, 'learning_rate': 0.009108330318448916, 'n_estimators': 90, 'subsample': 0.6441591321492549, 'colsample_bytree': 0.6405493053979594, 'min_child_weight': 5, 'gamma': 3.0034582496008246}. Best is trial 11 with value: 0.8416666666666666.\n",
      "[I 2024-07-02 20:32:16,527] Trial 15 finished with value: 0.8333333333333333 and parameters: {'max_depth': 7, 'learning_rate': 0.0022223673606272375, 'n_estimators': 146, 'subsample': 0.7992655878533664, 'colsample_bytree': 0.7317464600691991, 'min_child_weight': 6, 'gamma': 1.6961410019939371}. Best is trial 11 with value: 0.8416666666666666.\n",
      "[I 2024-07-02 20:32:17,609] Trial 16 finished with value: 0.7963333333333334 and parameters: {'max_depth': 6, 'learning_rate': 0.0026731084279722575, 'n_estimators': 55, 'subsample': 0.5154900588596761, 'colsample_bytree': 0.5160654955786922, 'min_child_weight': 5, 'gamma': 3.365378158620669}. Best is trial 11 with value: 0.8416666666666666.\n",
      "[I 2024-07-02 20:32:18,988] Trial 17 finished with value: 0.7528 and parameters: {'max_depth': 5, 'learning_rate': 0.005939889444609887, 'n_estimators': 82, 'subsample': 0.8984802188981449, 'colsample_bytree': 0.8125106043368863, 'min_child_weight': 4, 'gamma': 1.2724167227892982}. Best is trial 11 with value: 0.8416666666666666.\n",
      "[I 2024-07-02 20:32:22,163] Trial 18 finished with value: 0.8261333333333335 and parameters: {'max_depth': 7, 'learning_rate': 0.002036801320967223, 'n_estimators': 111, 'subsample': 0.6273020777006968, 'colsample_bytree': 0.7294371235137345, 'min_child_weight': 8, 'gamma': 0.05842700200770157}. Best is trial 11 with value: 0.8416666666666666.\n",
      "[I 2024-07-02 20:32:24,348] Trial 19 finished with value: 0.7582666666666666 and parameters: {'max_depth': 5, 'learning_rate': 0.0002322964758557837, 'n_estimators': 144, 'subsample': 0.7438069963152145, 'colsample_bytree': 0.6352148679422194, 'min_child_weight': 6, 'gamma': 1.9470908467100443}. Best is trial 11 with value: 0.8416666666666666.\n",
      "[I 2024-07-02 20:32:27,808] Trial 20 finished with value: 0.8119999999999999 and parameters: {'max_depth': 6, 'learning_rate': 0.006170822312849322, 'n_estimators': 174, 'subsample': 0.6932626817472424, 'colsample_bytree': 0.7030718608928876, 'min_child_weight': 5, 'gamma': 3.807159428958565}. Best is trial 11 with value: 0.8416666666666666.\n",
      "[I 2024-07-02 20:32:29,738] Trial 21 finished with value: 0.8377333333333332 and parameters: {'max_depth': 7, 'learning_rate': 0.0007364581395951555, 'n_estimators': 73, 'subsample': 0.5814075473100265, 'colsample_bytree': 0.505748792548272, 'min_child_weight': 4, 'gamma': 1.143689638986078}. Best is trial 11 with value: 0.8416666666666666.\n",
      "[I 2024-07-02 20:32:31,780] Trial 22 finished with value: 0.8353333333333334 and parameters: {'max_depth': 7, 'learning_rate': 0.0003395465102364882, 'n_estimators': 78, 'subsample': 0.6077918788609321, 'colsample_bytree': 0.5334833928848628, 'min_child_weight': 4, 'gamma': 1.127611358554558}. Best is trial 11 with value: 0.8416666666666666.\n",
      "[I 2024-07-02 20:32:33,369] Trial 23 finished with value: 0.8368666666666666 and parameters: {'max_depth': 7, 'learning_rate': 0.0010226194874574464, 'n_estimators': 59, 'subsample': 0.665180483612012, 'colsample_bytree': 0.5337887006634218, 'min_child_weight': 4, 'gamma': 1.5814384516482494}. Best is trial 11 with value: 0.8416666666666666.\n",
      "[I 2024-07-02 20:32:35,429] Trial 24 finished with value: 0.7979333333333335 and parameters: {'max_depth': 6, 'learning_rate': 0.0009832005439949507, 'n_estimators': 109, 'subsample': 0.5669905114354837, 'colsample_bytree': 0.5584765322224702, 'min_child_weight': 5, 'gamma': 2.4457429734727603}. Best is trial 11 with value: 0.8416666666666666.\n",
      "[I 2024-07-02 20:32:37,853] Trial 25 finished with value: 0.8366666666666667 and parameters: {'max_depth': 7, 'learning_rate': 0.002643496531635331, 'n_estimators': 89, 'subsample': 0.5284933025234202, 'colsample_bytree': 0.6229999014785647, 'min_child_weight': 4, 'gamma': 0.99394394793796}. Best is trial 11 with value: 0.8416666666666666.\n",
      "[I 2024-07-02 20:32:38,809] Trial 26 finished with value: 0.7334666666666665 and parameters: {'max_depth': 4, 'learning_rate': 0.00034543245291505773, 'n_estimators': 76, 'subsample': 0.839074533219841, 'colsample_bytree': 0.5017185101994753, 'min_child_weight': 5, 'gamma': 0.8519052286463591}. Best is trial 11 with value: 0.8416666666666666.\n",
      "[I 2024-07-02 20:32:41,370] Trial 27 finished with value: 0.834 and parameters: {'max_depth': 7, 'learning_rate': 0.0016146287307499802, 'n_estimators': 98, 'subsample': 0.5538359534285798, 'colsample_bytree': 0.5436218398647503, 'min_child_weight': 4, 'gamma': 1.7247396652483133}. Best is trial 11 with value: 0.8416666666666666.\n",
      "[I 2024-07-02 20:32:42,758] Trial 28 finished with value: 0.7978000000000001 and parameters: {'max_depth': 6, 'learning_rate': 0.003356617187933364, 'n_estimators': 65, 'subsample': 0.6014126438511901, 'colsample_bytree': 0.6633835631820999, 'min_child_weight': 6, 'gamma': 0.46103374827773935}. Best is trial 11 with value: 0.8416666666666666.\n",
      "[I 2024-07-02 20:32:43,881] Trial 29 finished with value: 0.7013333333333334 and parameters: {'max_depth': 3, 'learning_rate': 0.006007103295766147, 'n_estimators': 113, 'subsample': 0.859112020982002, 'colsample_bytree': 0.7684380541559642, 'min_child_weight': 8, 'gamma': 2.353401306701015}. Best is trial 11 with value: 0.8416666666666666.\n",
      "[I 2024-07-02 20:32:45,573] Trial 30 finished with value: 0.799 and parameters: {'max_depth': 6, 'learning_rate': 0.001087617459115633, 'n_estimators': 83, 'subsample': 0.6828197725150562, 'colsample_bytree': 0.6029746161910786, 'min_child_weight': 5, 'gamma': 1.8347021053315016}. Best is trial 11 with value: 0.8416666666666666.\n",
      "[I 2024-07-02 20:32:47,192] Trial 31 finished with value: 0.8354666666666667 and parameters: {'max_depth': 7, 'learning_rate': 0.0004640801538005662, 'n_estimators': 63, 'subsample': 0.5553677083856985, 'colsample_bytree': 0.5004580382249953, 'min_child_weight': 4, 'gamma': 1.02812260198795}. Best is trial 11 with value: 0.8416666666666666.\n",
      "[I 2024-07-02 20:32:49,114] Trial 32 finished with value: 0.8338000000000001 and parameters: {'max_depth': 7, 'learning_rate': 0.0008960817568678091, 'n_estimators': 73, 'subsample': 0.5871315548479589, 'colsample_bytree': 0.5539269929999563, 'min_child_weight': 4, 'gamma': 1.3648337688807506}. Best is trial 11 with value: 0.8416666666666666.\n",
      "[I 2024-07-02 20:32:50,533] Trial 33 finished with value: 0.8284666666666667 and parameters: {'max_depth': 7, 'learning_rate': 0.0007626683060016246, 'n_estimators': 50, 'subsample': 0.5005833733287023, 'colsample_bytree': 0.5702208102882962, 'min_child_weight': 4, 'gamma': 0.7017831584755095}. Best is trial 11 with value: 0.8416666666666666.\n",
      "[I 2024-07-02 20:32:52,376] Trial 34 finished with value: 0.8020000000000002 and parameters: {'max_depth': 6, 'learning_rate': 0.00016837017555300433, 'n_estimators': 93, 'subsample': 0.6288506524322336, 'colsample_bytree': 0.5272219427391388, 'min_child_weight': 4, 'gamma': 0.27446114744702377}. Best is trial 11 with value: 0.8416666666666666.\n",
      "[I 2024-07-02 20:32:54,306] Trial 35 finished with value: 0.8348000000000001 and parameters: {'max_depth': 7, 'learning_rate': 0.0006586471587533486, 'n_estimators': 71, 'subsample': 0.5432429547257956, 'colsample_bytree': 0.5958074073561463, 'min_child_weight': 4, 'gamma': 0.077879548738512}. Best is trial 11 with value: 0.8416666666666666.\n",
      "[I 2024-07-02 20:32:56,432] Trial 36 finished with value: 0.7862666666666668 and parameters: {'max_depth': 6, 'learning_rate': 0.000434862528258342, 'n_estimators': 106, 'subsample': 0.6210041768468595, 'colsample_bytree': 0.7031419078311015, 'min_child_weight': 10, 'gamma': 0.49609911514162075}. Best is trial 11 with value: 0.8416666666666666.\n",
      "[I 2024-07-02 20:32:58,817] Trial 37 finished with value: 0.8280666666666667 and parameters: {'max_depth': 7, 'learning_rate': 0.0014714487659800032, 'n_estimators': 60, 'subsample': 0.5801631574458375, 'colsample_bytree': 0.5818118532775056, 'min_child_weight': 5, 'gamma': 1.4418951733049408}. Best is trial 11 with value: 0.8416666666666666.\n",
      "[I 2024-07-02 20:33:01,260] Trial 38 finished with value: 0.8114000000000001 and parameters: {'max_depth': 6, 'learning_rate': 0.001900477457940323, 'n_estimators': 119, 'subsample': 0.7166483215015005, 'colsample_bytree': 0.5177280717262993, 'min_child_weight': 4, 'gamma': 0.8525928165895764}. Best is trial 11 with value: 0.8416666666666666.\n",
      "[I 2024-07-02 20:33:03,801] Trial 39 finished with value: 0.8284666666666667 and parameters: {'max_depth': 7, 'learning_rate': 0.0030594970046441297, 'n_estimators': 86, 'subsample': 0.6568920995083566, 'colsample_bytree': 0.7567376981139357, 'min_child_weight': 5, 'gamma': 1.2592067138168321}. Best is trial 11 with value: 0.8416666666666666.\n",
      "[I 2024-07-02 20:33:06,120] Trial 40 finished with value: 0.7458000000000001 and parameters: {'max_depth': 5, 'learning_rate': 0.0002647636129785244, 'n_estimators': 136, 'subsample': 0.7540583419527596, 'colsample_bytree': 0.8245807364724254, 'min_child_weight': 7, 'gamma': 0.7661392167478219}. Best is trial 11 with value: 0.8416666666666666.\n",
      "[I 2024-07-02 20:33:07,690] Trial 41 finished with value: 0.8352666666666666 and parameters: {'max_depth': 7, 'learning_rate': 0.0010630821061846378, 'n_estimators': 58, 'subsample': 0.6736030668172066, 'colsample_bytree': 0.5445174587664274, 'min_child_weight': 4, 'gamma': 1.5293290190493791}. Best is trial 11 with value: 0.8416666666666666.\n",
      "[I 2024-07-02 20:33:09,483] Trial 42 finished with value: 0.8382666666666667 and parameters: {'max_depth': 7, 'learning_rate': 0.0012416699527830156, 'n_estimators': 70, 'subsample': 0.7017778933198416, 'colsample_bytree': 0.5183009442515446, 'min_child_weight': 4, 'gamma': 2.0894173548014816}. Best is trial 11 with value: 0.8416666666666666.\n",
      "[I 2024-07-02 20:33:11,349] Trial 43 finished with value: 0.8287333333333333 and parameters: {'max_depth': 7, 'learning_rate': 0.0007374103353988214, 'n_estimators': 71, 'subsample': 0.5673210290720023, 'colsample_bytree': 0.5663669092982435, 'min_child_weight': 4, 'gamma': 2.797225448699799}. Best is trial 11 with value: 0.8416666666666666.\n",
      "[I 2024-07-02 20:33:13,777] Trial 44 finished with value: 0.8299333333333333 and parameters: {'max_depth': 7, 'learning_rate': 0.0012325910364729244, 'n_estimators': 99, 'subsample': 0.8735366587888489, 'colsample_bytree': 0.5200932063422068, 'min_child_weight': 5, 'gamma': 4.753130522439971}. Best is trial 11 with value: 0.8416666666666666.\n",
      "[I 2024-07-02 20:33:15,500] Trial 45 finished with value: 0.844 and parameters: {'max_depth': 7, 'learning_rate': 0.004782347272878005, 'n_estimators': 67, 'subsample': 0.785181706732375, 'colsample_bytree': 0.5174718925912217, 'min_child_weight': 4, 'gamma': 2.073635700349996}. Best is trial 45 with value: 0.844.\n",
      "[I 2024-07-02 20:33:17,100] Trial 46 finished with value: 0.8152000000000001 and parameters: {'max_depth': 6, 'learning_rate': 0.007615702692519954, 'n_estimators': 82, 'subsample': 0.7943473127649742, 'colsample_bytree': 0.5026797026160297, 'min_child_weight': 5, 'gamma': 2.0570369367791734}. Best is trial 45 with value: 0.844.\n",
      "[I 2024-07-02 20:33:19,300] Trial 47 finished with value: 0.8109333333333332 and parameters: {'max_depth': 7, 'learning_rate': 0.0046267534436067025, 'n_estimators': 66, 'subsample': 0.8230972512317272, 'colsample_bytree': 0.8906766374347126, 'min_child_weight': 4, 'gamma': 2.238044015799508}. Best is trial 45 with value: 0.844.\n",
      "[I 2024-07-02 20:33:21,387] Trial 48 finished with value: 0.8364 and parameters: {'max_depth': 7, 'learning_rate': 0.003678129393967463, 'n_estimators': 78, 'subsample': 0.8824589762754975, 'colsample_bytree': 0.6155917498194601, 'min_child_weight': 6, 'gamma': 2.5965146634496263}. Best is trial 45 with value: 0.844.\n",
      "[I 2024-07-02 20:33:22,580] Trial 49 finished with value: 0.7939333333333334 and parameters: {'max_depth': 6, 'learning_rate': 0.005375995568681972, 'n_estimators': 52, 'subsample': 0.7737738804375528, 'colsample_bytree': 0.7166984190914276, 'min_child_weight': 4, 'gamma': 3.2681337518338407}. Best is trial 45 with value: 0.844.\n"
     ]
    },
    {
     "name": "stdout",
     "output_type": "stream",
     "text": [
      " \n",
      "{'max_depth': 7, 'learning_rate': 0.004782347272878005, 'n_estimators': 67, 'subsample': 0.785181706732375, 'colsample_bytree': 0.5174718925912217, 'min_child_weight': 4, 'gamma': 2.073635700349996}\n"
     ]
    }
   ],
   "source": [
    "# xgboostclassifier\n",
    "import optuna\n",
    "from sklearn.model_selection import cross_val_score\n",
    "from xgboost import XGBClassifier\n",
    "\n",
    "def xgb_objective(trial):\n",
    "    # 하이퍼파라미터 범위 설정\n",
    "    max_depth = trial.suggest_int('max_depth', 3, 7)  # max_depth의 범위를 줄임\n",
    "    learning_rate = trial.suggest_float('learning_rate', 1e-4, 1e-2, log=True)\n",
    "    n_estimators = trial.suggest_int('n_estimators', 50, 200)  # n_estimators의 범위를 줄임\n",
    "    subsample = trial.suggest_float('subsample', 0.5, 0.9)\n",
    "    colsample_bytree = trial.suggest_float('colsample_bytree', 0.5, 0.9)\n",
    "    min_child_weight = trial.suggest_int('min_child_weight', 4, 10)  # 추가\n",
    "    gamma = trial.suggest_float('gamma', 0, 5)  # 추가\n",
    "    \n",
    "    # XGBClassifier 모델 정의\n",
    "    clf = XGBClassifier(\n",
    "        max_depth=max_depth,\n",
    "        learning_rate=learning_rate,\n",
    "        n_estimators=n_estimators,\n",
    "        subsample=subsample,\n",
    "        colsample_bytree=colsample_bytree,\n",
    "        min_child_weight=min_child_weight,  # 추가\n",
    "        gamma=gamma,  # 추가\n",
    "        use_label_encoder=False,\n",
    "        eval_metric='logloss'\n",
    "    )\n",
    "    \n",
    "    # 교차 검증 점수 계산\n",
    "    scores = cross_val_score(clf, shap_xgb_train_resampled, y_train_resampled, cv=5, scoring='accuracy')\n",
    "    \n",
    "    return scores.mean()\n",
    "\n",
    "# Optuna 스터디 생성 및 최적화\n",
    "xgb_study = optuna.create_study(direction='maximize')\n",
    "xgb_study.optimize(xgb_objective, n_trials=50)  # 최적화 반복 횟수는 필요에 따라 조절\n",
    "\n",
    "# 최적 하이퍼파라미터 출력\n",
    "xgb_best_params = xgb_study.best_params\n",
    "print(' ')\n",
    "print(xgb_best_params)"
   ]
  },
  {
   "cell_type": "code",
   "execution_count": 55,
   "metadata": {},
   "outputs": [
    {
     "name": "stdout",
     "output_type": "stream",
     "text": [
      "Accuracy= 0.5987903225806451\n"
     ]
    }
   ],
   "source": [
    "model_logis=xgb.XGBClassifier(**xgb_best_params)\n",
    "# model_logis=xgb.XGBClassifier(max_depth= 4, learning_rate= 0.00020353095689003422, n_estimators= 229, subsample= 0.5217582675029752, colsample_bytree= 0.5421399627551824)\n",
    "model_logis.fit(shap_xgb_train_resampled, y_train_resampled)\n",
    "y_pred = model_logis.predict(shap_xgb_test)\n",
    "\n",
    "accuracy = accuracy_score(y_test, y_pred)\n",
    "print(\"Accuracy=\", accuracy)"
   ]
  },
  {
   "cell_type": "markdown",
   "metadata": {},
   "source": [
    "### Logisticregression"
   ]
  },
  {
   "cell_type": "code",
   "execution_count": 36,
   "metadata": {},
   "outputs": [
    {
     "name": "stderr",
     "output_type": "stream",
     "text": [
      "[I 2024-06-28 21:54:38,602] A new study created in memory with name: no-name-2aff2b9a-2fe7-4dcf-92f6-6d5f1e2b3bd2\n",
      "[I 2024-06-28 21:55:49,292] Trial 0 finished with value: 0.7284666666666666 and parameters: {'l1_ratio': 0.2856138499871832, 'C': 0.0037205809861660137}. Best is trial 0 with value: 0.7284666666666666.\n",
      "[I 2024-06-28 21:57:40,823] Trial 1 finished with value: 0.7453333333333333 and parameters: {'l1_ratio': 0.3056108275229963, 'C': 1.6419178967802188}. Best is trial 1 with value: 0.7453333333333333.\n",
      "[I 2024-06-28 21:58:16,770] Trial 2 finished with value: 0.5116666666666666 and parameters: {'l1_ratio': 0.6061286699922386, 'C': 0.0002657614048158736}. Best is trial 1 with value: 0.7453333333333333.\n",
      "[I 2024-06-28 21:59:51,442] Trial 3 finished with value: 0.7392000000000001 and parameters: {'l1_ratio': 0.8505460243217602, 'C': 0.013509837949129862}. Best is trial 1 with value: 0.7453333333333333.\n",
      "[I 2024-06-28 22:00:38,313] Trial 4 finished with value: 0.717 and parameters: {'l1_ratio': 0.12072525968824344, 'C': 0.001436739448408331}. Best is trial 1 with value: 0.7453333333333333.\n"
     ]
    }
   ],
   "source": [
    "# LogisticRegression\n",
    "def logreg_objective(trial):\n",
    "    \n",
    "    r = trial.suggest_float('l1_ratio', 0, 1, log=False)\n",
    "    c = trial.suggest_float('C', 1e-4, 1e2, log=True)\n",
    "     \n",
    "    clf =  LogisticRegression(max_iter=5000, solver='saga', penalty='elasticnet', l1_ratio=r, C=c)\n",
    "    scores = cross_val_score(clf, shap_lgbm_train_resampled, y_train_resampled, cv=5, scoring='accuracy')\n",
    "    \n",
    "    return scores.mean()\n",
    "    \n",
    "logreg_study = optuna.create_study(direction='maximize')\n",
    "logreg_study.optimize(logreg_objective, n_trials=5)\n",
    "\n",
    "logreg_best_params = logreg_study.best_params"
   ]
  },
  {
   "cell_type": "code",
   "execution_count": 37,
   "metadata": {},
   "outputs": [
    {
     "name": "stdout",
     "output_type": "stream",
     "text": [
      "Accuracy: 0.5511695906432749\n"
     ]
    }
   ],
   "source": [
    "model_logis=LogisticRegression(**logreg_best_params)\n",
    "model_logis.fit(shap_lgbm_train_resampled,y_train_resampled)\n",
    "y_pred = model_logis.predict(shap_lgbm_test)\n",
    "\n",
    "accuracy = accuracy_score(y_test, y_pred)\n",
    "print(\"Accuracy:\", accuracy)"
   ]
  },
  {
   "cell_type": "markdown",
   "metadata": {},
   "source": [
    "## Randomforest feature selection  큰 효과가 없는 듯 함"
   ]
  },
  {
   "cell_type": "code",
   "execution_count": null,
   "metadata": {},
   "outputs": [],
   "source": [
    "# model = RandomForestClassifier()\n",
    "# model.fit(train_resampled, y_train_resampled)\n",
    "# y_pred = model.predict(test)\n",
    "\n",
    "# rn_features = []\n",
    "# importances = model.feature_importances_\n",
    "# feature_names = train.columns\n",
    "\n",
    "# # 피처 중요도를 기준으로 정렬하여 상위 피처 선택\n",
    "# indices = np.argsort(importances)[::-1]\n",
    "\n",
    "# # 중요도가 0.01 이상인 피처만 선택\n",
    "# # top_number = 40\n",
    "# top_num_indices = [idx for idx in indices if importances[idx] >= 0.005] #[:top_number]\n",
    "# top_features = feature_names[top_num_indices]\n",
    "\n",
    "# for i, feature in enumerate(top_features):\n",
    "#     print(f\"{i+1}. {feature} (중요도: {importances[top_num_indices[i]]})\")\n",
    "#     rn_features.append(feature)\n",
    "\n",
    "# rn_train_resampled = train_resampled[rn_features]\n",
    "# rn_test = test[rn_features]\n",
    "\n",
    "# model_logis=LogisticRegression(**logreg_best_params)\n",
    "# model_logis.fit(rn_train_resampled,y_train_resampled)\n",
    "# y_pred = model_logis.predict(rn_test)\n",
    "\n",
    "# accuracy = accuracy_score(y_test, y_pred)\n",
    "# print(\"Accuracy:\", accuracy)"
   ]
  },
  {
   "cell_type": "markdown",
   "metadata": {},
   "source": [
    "## 상관계수 계산"
   ]
  },
  {
   "cell_type": "code",
   "execution_count": null,
   "metadata": {},
   "outputs": [],
   "source": [
    "corr_matrix = train.corr().abs()\n",
    "upper = corr_matrix.where(np.triu(np.ones(corr_matrix.shape), k=1).astype(np.bool))\n",
    "corr_number = 0.9\n",
    "to_drop = [column for column in upper.columns if any(upper[column] > corr_number)]\n",
    "to_drop\n",
    "# # 특징 제거\n",
    "corr_train_resampled = train_resampled.drop(columns=to_drop)  \n",
    "corr_test = test.drop(columns=to_drop)"
   ]
  },
  {
   "cell_type": "code",
   "execution_count": null,
   "metadata": {},
   "outputs": [],
   "source": [
    "def logreg_objective(trial):\n",
    "    \n",
    "    r = trial.suggest_float('l1_ratio', 0, 1, log=False)\n",
    "    c = trial.suggest_float('C', 1e-4, 1e2, log=True)\n",
    "     \n",
    "    clf =  LogisticRegression(max_iter=5000, solver='saga', penalty='elasticnet', l1_ratio=r, C=c)\n",
    "    scores = cross_val_score(clf, corr_train_resampled, y_train_resampled, cv=5, scoring='accuracy')\n",
    "    \n",
    "    return scores.mean()\n",
    "    \n",
    "logreg_study = optuna.create_study(direction='maximize')\n",
    "logreg_study.optimize(logreg_objective, n_trials=5)\n",
    "\n",
    "logreg_best_params = logreg_study.best_params\n"
   ]
  },
  {
   "cell_type": "code",
   "execution_count": null,
   "metadata": {},
   "outputs": [],
   "source": [
    "model_logis=LogisticRegression(**logreg_best_params)\n",
    "model_logis.fit(corr_train_resampled,y_train_resampled)\n",
    "y_pred = model_logis.predict(corr_test)\n",
    "\n",
    "accuracy = accuracy_score(y_test, y_pred)\n",
    "print(\"Accuracy:\", accuracy)"
   ]
  },
  {
   "cell_type": "markdown",
   "metadata": {},
   "source": [
    "## L1 규제(Lasso)"
   ]
  },
  {
   "cell_type": "code",
   "execution_count": null,
   "metadata": {},
   "outputs": [],
   "source": [
    "# alpha 값 후보군 설정\n",
    "alpha_values = [0.0001, 0.0005, 0.001, 0.005, 0.01, 0.05, 0.1, 1, 10, 100]\n",
    "param_grid = {'alpha': alpha_values}\n",
    "\n",
    "# Lasso 모델과 GridSearchCV 설정\n",
    "lasso = Lasso()\n",
    "grid_search = GridSearchCV(lasso, param_grid, cv=5, scoring='neg_mean_squared_error')\n",
    "\n",
    "# 최적의 alpha 값 찾기\n",
    "grid_search.fit(train_resampled, y_train_resampled)\n",
    "best_alpha = grid_search.best_params_['alpha']\n",
    "best_alpha"
   ]
  },
  {
   "cell_type": "code",
   "execution_count": null,
   "metadata": {},
   "outputs": [],
   "source": [
    "lasso = Lasso(alpha=best_alpha)  # 위에서 나온 alpha 값으로 조정한 거임\n",
    "lasso.fit(train_resampled, y_train_resampled)\n",
    "\n",
    "# 가중치가 0이 아닌 특징 선택\n",
    "selected_features = train_resampled.columns[lasso.coef_ != 0]\n",
    "selected_features"
   ]
  },
  {
   "cell_type": "code",
   "execution_count": null,
   "metadata": {},
   "outputs": [],
   "source": [
    "L1_train_resampled = train_resampled[selected_features]\n",
    "L1_test = test[selected_features]"
   ]
  },
  {
   "cell_type": "code",
   "execution_count": null,
   "metadata": {},
   "outputs": [],
   "source": [
    "def logreg_objective(trial):\n",
    "    \n",
    "    r = trial.suggest_float('l1_ratio', 0, 1, log=False)\n",
    "    c = trial.suggest_float('C', 1e-4, 1e2, log=True)\n",
    "     \n",
    "    clf =  LogisticRegression(max_iter=5000, solver='saga', penalty='elasticnet', l1_ratio=r, C=c)\n",
    "    scores = cross_val_score(clf, L1_train_resampled, y_train_resampled, cv=5, scoring='accuracy')\n",
    "    \n",
    "    return scores.mean()\n",
    "    \n",
    "logreg_study = optuna.create_study(direction='maximize')\n",
    "logreg_study.optimize(logreg_objective, n_trials=5)\n",
    "\n",
    "logreg_best_params = logreg_study.best_params"
   ]
  },
  {
   "cell_type": "markdown",
   "metadata": {},
   "source": [
    "## model select"
   ]
  },
  {
   "cell_type": "code",
   "execution_count": null,
   "metadata": {},
   "outputs": [],
   "source": [
    "model_logis=LogisticRegression(**logreg_best_params)\n",
    "model_logis.fit(L1_train_resampled,y_train_resampled)\n",
    "\n",
    "y_pred = model_logis.predict(L1_test)\n",
    "\n",
    "accuracy = accuracy_score(y_test, y_pred)\n",
    "print(\"Accuracy:\", accuracy)"
   ]
  },
  {
   "cell_type": "code",
   "execution_count": null,
   "metadata": {},
   "outputs": [],
   "source": [
    "# model = lgb.LGBMClassifier(n_estimators=100, random_state=42)\n",
    "# model.fit(train, y_train) \n",
    "# y_pred = model.predict(test)\n",
    "\n",
    "# accuracy = accuracy_score(y_test, y_pred)\n",
    "# print(\"Accuracy:\", accuracy)"
   ]
  },
  {
   "cell_type": "markdown",
   "metadata": {},
   "source": [
    "# 2013~2023  \n",
    "### 많긴 하지만 정확도 떨어질 것으로 예상됨\n",
    "\n",
    "# 2020~2023\n",
    "### 데이터 수가 급격히 줄어듬"
   ]
  }
 ],
 "metadata": {
  "kernelspec": {
   "display_name": "code_sim",
   "language": "python",
   "name": "python3"
  },
  "language_info": {
   "codemirror_mode": {
    "name": "ipython",
    "version": 3
   },
   "file_extension": ".py",
   "mimetype": "text/x-python",
   "name": "python",
   "nbconvert_exporter": "python",
   "pygments_lexer": "ipython3",
   "version": "3.11.5"
  }
 },
 "nbformat": 4,
 "nbformat_minor": 2
}
